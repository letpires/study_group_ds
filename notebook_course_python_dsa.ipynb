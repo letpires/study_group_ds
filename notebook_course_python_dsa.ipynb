{
  "nbformat": 4,
  "nbformat_minor": 0,
  "metadata": {
    "colab": {
      "name": "DSA_python_numpy.ipynb",
      "provenance": [],
      "authorship_tag": "ABX9TyMtY6DdFvl7tHwSweq91We4",
      "include_colab_link": true
    },
    "kernelspec": {
      "name": "python3",
      "display_name": "Python 3"
    }
  },
  "cells": [
    {
      "cell_type": "markdown",
      "metadata": {
        "id": "view-in-github",
        "colab_type": "text"
      },
      "source": [
        "<a href=\"https://colab.research.google.com/github/letpires/dsa_python/blob/main/DSA_python_numpy.ipynb\" target=\"_parent\"><img src=\"https://colab.research.google.com/assets/colab-badge.svg\" alt=\"Open In Colab\"/></a>"
      ]
    },
    {
      "cell_type": "markdown",
      "metadata": {
        "id": "IrcORchnhrLg"
      },
      "source": [
        "# **NUMPY**"
      ]
    },
    {
      "cell_type": "markdown",
      "metadata": {
        "id": "Pnynq7lBhvgr"
      },
      "source": [
        "Para importar numpy, utilize: import numpy as np\r\n",
        "\r\n",
        "Você também pode utilizar: from numpy import * . Isso evitará a utilização de np., mas este comando importará todos os módulos do NumPy.\r\n",
        "\r\n",
        "Para atualizar o NumPy, abra o prompt de comando e digite: pip install numpy -U"
      ]
    },
    {
      "cell_type": "code",
      "metadata": {
        "colab": {
          "base_uri": "https://localhost:8080/"
        },
        "id": "R42k-KGWhARd",
        "outputId": "ce60f843-7598-4911-bb41-6d015abfb92b"
      },
      "source": [
        "# Versão da Linguagem Python\r\n",
        "from platform import python_version\r\n",
        "print('Versão da Linguagem Python Usada Neste Jupyter Notebook:', python_version())"
      ],
      "execution_count": 1,
      "outputs": [
        {
          "output_type": "stream",
          "text": [
            "Versão da Linguagem Python Usada Neste Jupyter Notebook: 3.7.10\n"
          ],
          "name": "stdout"
        }
      ]
    },
    {
      "cell_type": "code",
      "metadata": {
        "id": "xv7LjRwZhqqp"
      },
      "source": [
        "# Importando o NumPy\r\n",
        "import numpy as np"
      ],
      "execution_count": 2,
      "outputs": []
    },
    {
      "cell_type": "code",
      "metadata": {
        "colab": {
          "base_uri": "https://localhost:8080/",
          "height": 35
        },
        "id": "jIbqCrpIla0B",
        "outputId": "5e21812f-ad5e-42f4-e910-f542ca6f3bbd"
      },
      "source": [
        "np.__version__"
      ],
      "execution_count": 3,
      "outputs": [
        {
          "output_type": "execute_result",
          "data": {
            "application/vnd.google.colaboratory.intrinsic+json": {
              "type": "string"
            },
            "text/plain": [
              "'1.19.5'"
            ]
          },
          "metadata": {
            "tags": []
          },
          "execution_count": 3
        }
      ]
    },
    {
      "cell_type": "markdown",
      "metadata": {
        "id": "007OAvFWlvKo"
      },
      "source": [
        "###Criando Arrays"
      ]
    },
    {
      "cell_type": "code",
      "metadata": {
        "colab": {
          "base_uri": "https://localhost:8080/"
        },
        "id": "wmhPfTDqlxFd",
        "outputId": "a88fe02b-10e5-496e-ea8d-a862ba313ed0"
      },
      "source": [
        "# Help\r\n",
        "help(np.array)"
      ],
      "execution_count": 4,
      "outputs": [
        {
          "output_type": "stream",
          "text": [
            "Help on built-in function array in module numpy:\n",
            "\n",
            "array(...)\n",
            "    array(object, dtype=None, *, copy=True, order='K', subok=False, ndmin=0)\n",
            "    \n",
            "    Create an array.\n",
            "    \n",
            "    Parameters\n",
            "    ----------\n",
            "    object : array_like\n",
            "        An array, any object exposing the array interface, an object whose\n",
            "        __array__ method returns an array, or any (nested) sequence.\n",
            "    dtype : data-type, optional\n",
            "        The desired data-type for the array.  If not given, then the type will\n",
            "        be determined as the minimum type required to hold the objects in the\n",
            "        sequence.\n",
            "    copy : bool, optional\n",
            "        If true (default), then the object is copied.  Otherwise, a copy will\n",
            "        only be made if __array__ returns a copy, if obj is a nested sequence,\n",
            "        or if a copy is needed to satisfy any of the other requirements\n",
            "        (`dtype`, `order`, etc.).\n",
            "    order : {'K', 'A', 'C', 'F'}, optional\n",
            "        Specify the memory layout of the array. If object is not an array, the\n",
            "        newly created array will be in C order (row major) unless 'F' is\n",
            "        specified, in which case it will be in Fortran order (column major).\n",
            "        If object is an array the following holds.\n",
            "    \n",
            "        ===== ========= ===================================================\n",
            "        order  no copy                     copy=True\n",
            "        ===== ========= ===================================================\n",
            "        'K'   unchanged F & C order preserved, otherwise most similar order\n",
            "        'A'   unchanged F order if input is F and not C, otherwise C order\n",
            "        'C'   C order   C order\n",
            "        'F'   F order   F order\n",
            "        ===== ========= ===================================================\n",
            "    \n",
            "        When ``copy=False`` and a copy is made for other reasons, the result is\n",
            "        the same as if ``copy=True``, with some exceptions for `A`, see the\n",
            "        Notes section. The default order is 'K'.\n",
            "    subok : bool, optional\n",
            "        If True, then sub-classes will be passed-through, otherwise\n",
            "        the returned array will be forced to be a base-class array (default).\n",
            "    ndmin : int, optional\n",
            "        Specifies the minimum number of dimensions that the resulting\n",
            "        array should have.  Ones will be pre-pended to the shape as\n",
            "        needed to meet this requirement.\n",
            "    \n",
            "    Returns\n",
            "    -------\n",
            "    out : ndarray\n",
            "        An array object satisfying the specified requirements.\n",
            "    \n",
            "    See Also\n",
            "    --------\n",
            "    empty_like : Return an empty array with shape and type of input.\n",
            "    ones_like : Return an array of ones with shape and type of input.\n",
            "    zeros_like : Return an array of zeros with shape and type of input.\n",
            "    full_like : Return a new array with shape of input filled with value.\n",
            "    empty : Return a new uninitialized array.\n",
            "    ones : Return a new array setting values to one.\n",
            "    zeros : Return a new array setting values to zero.\n",
            "    full : Return a new array of given shape filled with value.\n",
            "    \n",
            "    \n",
            "    Notes\n",
            "    -----\n",
            "    When order is 'A' and `object` is an array in neither 'C' nor 'F' order,\n",
            "    and a copy is forced by a change in dtype, then the order of the result is\n",
            "    not necessarily 'C' as expected. This is likely a bug.\n",
            "    \n",
            "    Examples\n",
            "    --------\n",
            "    >>> np.array([1, 2, 3])\n",
            "    array([1, 2, 3])\n",
            "    \n",
            "    Upcasting:\n",
            "    \n",
            "    >>> np.array([1, 2, 3.0])\n",
            "    array([ 1.,  2.,  3.])\n",
            "    \n",
            "    More than one dimension:\n",
            "    \n",
            "    >>> np.array([[1, 2], [3, 4]])\n",
            "    array([[1, 2],\n",
            "           [3, 4]])\n",
            "    \n",
            "    Minimum dimensions 2:\n",
            "    \n",
            "    >>> np.array([1, 2, 3], ndmin=2)\n",
            "    array([[1, 2, 3]])\n",
            "    \n",
            "    Type provided:\n",
            "    \n",
            "    >>> np.array([1, 2, 3], dtype=complex)\n",
            "    array([ 1.+0.j,  2.+0.j,  3.+0.j])\n",
            "    \n",
            "    Data-type consisting of more than one element:\n",
            "    \n",
            "    >>> x = np.array([(1,2),(3,4)],dtype=[('a','<i4'),('b','<i4')])\n",
            "    >>> x['a']\n",
            "    array([1, 3])\n",
            "    \n",
            "    Creating an array from sub-classes:\n",
            "    \n",
            "    >>> np.array(np.mat('1 2; 3 4'))\n",
            "    array([[1, 2],\n",
            "           [3, 4]])\n",
            "    \n",
            "    >>> np.array(np.mat('1 2; 3 4'), subok=True)\n",
            "    matrix([[1, 2],\n",
            "            [3, 4]])\n",
            "\n"
          ],
          "name": "stdout"
        }
      ]
    },
    {
      "cell_type": "code",
      "metadata": {
        "id": "5hPTLqaAl4pQ"
      },
      "source": [
        "# Array criado a partir de uma lista:\r\n",
        "vetor1 = np.array([0, 1, 2, 3, 4, 5, 6, 7, 8])"
      ],
      "execution_count": 5,
      "outputs": []
    },
    {
      "cell_type": "code",
      "metadata": {
        "colab": {
          "base_uri": "https://localhost:8080/"
        },
        "id": "l-SNR9_7XjdN",
        "outputId": "e8276dd9-e272-4f3e-f565-be9650eb9383"
      },
      "source": [
        "print(vetor1)"
      ],
      "execution_count": 6,
      "outputs": [
        {
          "output_type": "stream",
          "text": [
            "[0 1 2 3 4 5 6 7 8]\n"
          ],
          "name": "stdout"
        }
      ]
    },
    {
      "cell_type": "code",
      "metadata": {
        "colab": {
          "base_uri": "https://localhost:8080/"
        },
        "id": "dLmP8zjEXk8s",
        "outputId": "78bb7a65-b27c-42fa-eda3-5f1286406745"
      },
      "source": [
        "# Um objeto do tipo ndarray é um recipiente multidimensional de itens do mesmo tipo e tamanho.\r\n",
        "type(vetor1)"
      ],
      "execution_count": 7,
      "outputs": [
        {
          "output_type": "execute_result",
          "data": {
            "text/plain": [
              "numpy.ndarray"
            ]
          },
          "metadata": {
            "tags": []
          },
          "execution_count": 7
        }
      ]
    },
    {
      "cell_type": "code",
      "metadata": {
        "colab": {
          "base_uri": "https://localhost:8080/"
        },
        "id": "5N3sk9aGXms5",
        "outputId": "e6a38911-479e-4f12-a656-2df5aca9d7cf"
      },
      "source": [
        "# Usando métodos do array NumPy\r\n",
        "vetor1.cumsum()"
      ],
      "execution_count": 8,
      "outputs": [
        {
          "output_type": "execute_result",
          "data": {
            "text/plain": [
              "array([ 0,  1,  3,  6, 10, 15, 21, 28, 36])"
            ]
          },
          "metadata": {
            "tags": []
          },
          "execution_count": 8
        }
      ]
    },
    {
      "cell_type": "code",
      "metadata": {
        "id": "SX9vnW_RXo7Z"
      },
      "source": [
        "# Criando uma lista. Perceba como listas e arrays são objetos diferentes, com diferentes propriedades\r\n",
        "lst = [0, 1, 2, 3, 4, 5, 6, 7, 8]"
      ],
      "execution_count": 9,
      "outputs": []
    },
    {
      "cell_type": "code",
      "metadata": {
        "colab": {
          "base_uri": "https://localhost:8080/"
        },
        "id": "M5KeO-FZ3MVX",
        "outputId": "72a9320c-d4b3-4d2e-c974-28093c8f9d8a"
      },
      "source": [
        "lst"
      ],
      "execution_count": 10,
      "outputs": [
        {
          "output_type": "execute_result",
          "data": {
            "text/plain": [
              "[0, 1, 2, 3, 4, 5, 6, 7, 8]"
            ]
          },
          "metadata": {
            "tags": []
          },
          "execution_count": 10
        }
      ]
    },
    {
      "cell_type": "code",
      "metadata": {
        "colab": {
          "base_uri": "https://localhost:8080/"
        },
        "id": "e4Xaddwa3NJV",
        "outputId": "ab2d0695-2f08-4ffe-fb17-6e1b2ac53bc1"
      },
      "source": [
        "type(lst)"
      ],
      "execution_count": 11,
      "outputs": [
        {
          "output_type": "execute_result",
          "data": {
            "text/plain": [
              "list"
            ]
          },
          "metadata": {
            "tags": []
          },
          "execution_count": 11
        }
      ]
    },
    {
      "cell_type": "code",
      "metadata": {
        "colab": {
          "base_uri": "https://localhost:8080/"
        },
        "id": "D7eIgn5L3O0h",
        "outputId": "c8707d31-5a97-4d71-bfc0-41f5cf0382df"
      },
      "source": [
        "# Imprimindo na tela um elemento específico no array\r\n",
        "vetor1[0]"
      ],
      "execution_count": 12,
      "outputs": [
        {
          "output_type": "execute_result",
          "data": {
            "text/plain": [
              "0"
            ]
          },
          "metadata": {
            "tags": []
          },
          "execution_count": 12
        }
      ]
    },
    {
      "cell_type": "code",
      "metadata": {
        "id": "XM8MP0az3Qf_"
      },
      "source": [
        "# Alterando um elemento do array\r\n",
        "vetor1[0] = 100"
      ],
      "execution_count": 13,
      "outputs": []
    },
    {
      "cell_type": "code",
      "metadata": {
        "colab": {
          "base_uri": "https://localhost:8080/"
        },
        "id": "o5GIH-Hf3SEl",
        "outputId": "5539d1ce-6071-425a-8e1c-9d5889b77a15"
      },
      "source": [
        "print(vetor1)"
      ],
      "execution_count": 14,
      "outputs": [
        {
          "output_type": "stream",
          "text": [
            "[100   1   2   3   4   5   6   7   8]\n"
          ],
          "name": "stdout"
        }
      ]
    },
    {
      "cell_type": "code",
      "metadata": {
        "colab": {
          "base_uri": "https://localhost:8080/",
          "height": 195
        },
        "id": "FfYhP-dR5wvf",
        "outputId": "efce1405-6c56-4661-e329-24e490f42726"
      },
      "source": [
        "# Não é possível incluir elemento de outro tipo\r\n",
        "vetor1[0] = 'Novo elemento'"
      ],
      "execution_count": 15,
      "outputs": [
        {
          "output_type": "error",
          "ename": "ValueError",
          "evalue": "ignored",
          "traceback": [
            "\u001b[0;31m---------------------------------------------------------------------------\u001b[0m",
            "\u001b[0;31mValueError\u001b[0m                                Traceback (most recent call last)",
            "\u001b[0;32m<ipython-input-15-421419406da7>\u001b[0m in \u001b[0;36m<module>\u001b[0;34m()\u001b[0m\n\u001b[1;32m      1\u001b[0m \u001b[0;34m\u001b[0m\u001b[0m\n\u001b[1;32m      2\u001b[0m \u001b[0;31m# Não é possível incluir elemento de outro tipo\u001b[0m\u001b[0;34m\u001b[0m\u001b[0;34m\u001b[0m\u001b[0;34m\u001b[0m\u001b[0m\n\u001b[0;32m----> 3\u001b[0;31m \u001b[0mvetor1\u001b[0m\u001b[0;34m[\u001b[0m\u001b[0;36m0\u001b[0m\u001b[0;34m]\u001b[0m \u001b[0;34m=\u001b[0m \u001b[0;34m'Novo elemento'\u001b[0m\u001b[0;34m\u001b[0m\u001b[0;34m\u001b[0m\u001b[0m\n\u001b[0m",
            "\u001b[0;31mValueError\u001b[0m: invalid literal for int() with base 10: 'Novo elemento'"
          ]
        }
      ]
    },
    {
      "cell_type": "code",
      "metadata": {
        "colab": {
          "base_uri": "https://localhost:8080/"
        },
        "id": "USUD8OQ45yMW",
        "outputId": "219fadfb-8bf2-4cf3-fd3d-fbd8eb84f610"
      },
      "source": [
        "# Verificando o formato do array\r\n",
        "print(vetor1.shape)"
      ],
      "execution_count": 16,
      "outputs": [
        {
          "output_type": "stream",
          "text": [
            "(9,)\n"
          ],
          "name": "stdout"
        }
      ]
    },
    {
      "cell_type": "markdown",
      "metadata": {
        "id": "BuOCA47x54gx"
      },
      "source": [
        "###Funções Numpy"
      ]
    },
    {
      "cell_type": "code",
      "metadata": {
        "id": "xaxyUX0g54vx"
      },
      "source": [
        "# A função arange cria um vetor contendo uma progressão aritmética a partir de um intervalo - start, stop, step\r\n",
        "vetor2 = np.arange(0., 4.5, .5)"
      ],
      "execution_count": 17,
      "outputs": []
    },
    {
      "cell_type": "code",
      "metadata": {
        "colab": {
          "base_uri": "https://localhost:8080/"
        },
        "id": "St5O7H5D583E",
        "outputId": "9d0c268a-b450-4a29-9d14-923b95e7ecd7"
      },
      "source": [
        "print(vetor2)"
      ],
      "execution_count": 18,
      "outputs": [
        {
          "output_type": "stream",
          "text": [
            "[0.  0.5 1.  1.5 2.  2.5 3.  3.5 4. ]\n"
          ],
          "name": "stdout"
        }
      ]
    },
    {
      "cell_type": "code",
      "metadata": {
        "colab": {
          "base_uri": "https://localhost:8080/"
        },
        "id": "Cq1TVAnC5-LT",
        "outputId": "cc5333de-9703-4a76-d870-052633afd72b"
      },
      "source": [
        "# Verificando o tipo do objeto\r\n",
        "type(vetor2)"
      ],
      "execution_count": 19,
      "outputs": [
        {
          "output_type": "execute_result",
          "data": {
            "text/plain": [
              "numpy.ndarray"
            ]
          },
          "metadata": {
            "tags": []
          },
          "execution_count": 19
        }
      ]
    },
    {
      "cell_type": "code",
      "metadata": {
        "colab": {
          "base_uri": "https://localhost:8080/"
        },
        "id": "tQIbTCE_5_xo",
        "outputId": "8a6c1e9d-672d-423d-a460-8715ccafb0d8"
      },
      "source": [
        "# Formato do array\r\n",
        "np.shape(vetor2)"
      ],
      "execution_count": 20,
      "outputs": [
        {
          "output_type": "execute_result",
          "data": {
            "text/plain": [
              "(9,)"
            ]
          },
          "metadata": {
            "tags": []
          },
          "execution_count": 20
        }
      ]
    },
    {
      "cell_type": "code",
      "metadata": {
        "colab": {
          "base_uri": "https://localhost:8080/"
        },
        "id": "XdiJZUYp6ByS",
        "outputId": "c4dce4f3-14be-4e89-fc1e-011dea9c72d9"
      },
      "source": [
        "print (vetor2.dtype)"
      ],
      "execution_count": 21,
      "outputs": [
        {
          "output_type": "stream",
          "text": [
            "float64\n"
          ],
          "name": "stdout"
        }
      ]
    },
    {
      "cell_type": "code",
      "metadata": {
        "colab": {
          "base_uri": "https://localhost:8080/"
        },
        "id": "lhWydtcK6C_i",
        "outputId": "fad2ac07-f511-4808-9c7b-93fbbea0c797"
      },
      "source": [
        "x = np.arange(1, 10, 0.25)\r\n",
        "print(x)"
      ],
      "execution_count": 22,
      "outputs": [
        {
          "output_type": "stream",
          "text": [
            "[1.   1.25 1.5  1.75 2.   2.25 2.5  2.75 3.   3.25 3.5  3.75 4.   4.25\n",
            " 4.5  4.75 5.   5.25 5.5  5.75 6.   6.25 6.5  6.75 7.   7.25 7.5  7.75\n",
            " 8.   8.25 8.5  8.75 9.   9.25 9.5  9.75]\n"
          ],
          "name": "stdout"
        }
      ]
    },
    {
      "cell_type": "code",
      "metadata": {
        "colab": {
          "base_uri": "https://localhost:8080/"
        },
        "id": "GaW9svrX6Euu",
        "outputId": "22ca09d8-078d-4561-f38a-92f4ab7cf6d1"
      },
      "source": [
        "print(np.zeros(10))"
      ],
      "execution_count": 23,
      "outputs": [
        {
          "output_type": "stream",
          "text": [
            "[0. 0. 0. 0. 0. 0. 0. 0. 0. 0.]\n"
          ],
          "name": "stdout"
        }
      ]
    },
    {
      "cell_type": "code",
      "metadata": {
        "id": "td0ujcAW6GGY"
      },
      "source": [
        "# Retorna 1 nas posições em diagonal e 0 no restante\r\n",
        "z = np.eye(3)"
      ],
      "execution_count": 24,
      "outputs": []
    },
    {
      "cell_type": "code",
      "metadata": {
        "colab": {
          "base_uri": "https://localhost:8080/"
        },
        "id": "38LCfY226HVr",
        "outputId": "6d9485e1-6c7e-46ed-83b8-48f15cca5d8d"
      },
      "source": [
        "z"
      ],
      "execution_count": 25,
      "outputs": [
        {
          "output_type": "execute_result",
          "data": {
            "text/plain": [
              "array([[1., 0., 0.],\n",
              "       [0., 1., 0.],\n",
              "       [0., 0., 1.]])"
            ]
          },
          "metadata": {
            "tags": []
          },
          "execution_count": 25
        }
      ]
    },
    {
      "cell_type": "code",
      "metadata": {
        "id": "LvzsAjfA6IaZ"
      },
      "source": [
        "# Os valores passados como parâmetro, formam uma diagonal\r\n",
        "d = np.diag(np.array([1, 2, 3, 4]))"
      ],
      "execution_count": 26,
      "outputs": []
    },
    {
      "cell_type": "code",
      "metadata": {
        "colab": {
          "base_uri": "https://localhost:8080/"
        },
        "id": "adqhxwBs6K5H",
        "outputId": "f823f1c3-80e3-4f6b-f3fa-882b38a7904d"
      },
      "source": [
        "d"
      ],
      "execution_count": 27,
      "outputs": [
        {
          "output_type": "execute_result",
          "data": {
            "text/plain": [
              "array([[1, 0, 0, 0],\n",
              "       [0, 2, 0, 0],\n",
              "       [0, 0, 3, 0],\n",
              "       [0, 0, 0, 4]])"
            ]
          },
          "metadata": {
            "tags": []
          },
          "execution_count": 27
        }
      ]
    },
    {
      "cell_type": "code",
      "metadata": {
        "id": "b0HgNFtg6MCG"
      },
      "source": [
        "# Array de números complexos\r\n",
        "c = np.array([1+2j, 3+4j, 5+6*1j])"
      ],
      "execution_count": 28,
      "outputs": []
    },
    {
      "cell_type": "code",
      "metadata": {
        "colab": {
          "base_uri": "https://localhost:8080/"
        },
        "id": "RiCw6cfy6No1",
        "outputId": "8d11762c-993f-4197-aeb4-54d8a2317417"
      },
      "source": [
        "c"
      ],
      "execution_count": 29,
      "outputs": [
        {
          "output_type": "execute_result",
          "data": {
            "text/plain": [
              "array([1.+2.j, 3.+4.j, 5.+6.j])"
            ]
          },
          "metadata": {
            "tags": []
          },
          "execution_count": 29
        }
      ]
    },
    {
      "cell_type": "code",
      "metadata": {
        "id": "YRAiUxrs6OtI"
      },
      "source": [
        "# Array de valores booleanos\r\n",
        "b = np.array([True, False, False, True])"
      ],
      "execution_count": 30,
      "outputs": []
    },
    {
      "cell_type": "code",
      "metadata": {
        "colab": {
          "base_uri": "https://localhost:8080/"
        },
        "id": "it-qAC966P27",
        "outputId": "755493f5-d4f7-40a9-bad0-a482e47c9d1b"
      },
      "source": [
        "b"
      ],
      "execution_count": 31,
      "outputs": [
        {
          "output_type": "execute_result",
          "data": {
            "text/plain": [
              "array([ True, False, False,  True])"
            ]
          },
          "metadata": {
            "tags": []
          },
          "execution_count": 31
        }
      ]
    },
    {
      "cell_type": "code",
      "metadata": {
        "id": "fmiGsQUK6RDA"
      },
      "source": [
        "# Array de strings\r\n",
        "s = np.array(['Python', 'R', 'Julia'])"
      ],
      "execution_count": 32,
      "outputs": []
    },
    {
      "cell_type": "code",
      "metadata": {
        "colab": {
          "base_uri": "https://localhost:8080/"
        },
        "id": "ONdeyWZI6TLy",
        "outputId": "fa3d4e5c-d23f-4190-f6a6-9d307e37bc90"
      },
      "source": [
        "s"
      ],
      "execution_count": 33,
      "outputs": [
        {
          "output_type": "execute_result",
          "data": {
            "text/plain": [
              "array(['Python', 'R', 'Julia'], dtype='<U6')"
            ]
          },
          "metadata": {
            "tags": []
          },
          "execution_count": 33
        }
      ]
    },
    {
      "cell_type": "code",
      "metadata": {
        "colab": {
          "base_uri": "https://localhost:8080/"
        },
        "id": "K580eoaw6UL8",
        "outputId": "56488bf2-6a1a-40c4-fcfb-5282f16fe74d"
      },
      "source": [
        "# O método linspace (linearly spaced vector) retorna um número de \r\n",
        "# valores igualmente distribuídos no intervalo especificado \r\n",
        "np.linspace(0, 10)"
      ],
      "execution_count": 34,
      "outputs": [
        {
          "output_type": "execute_result",
          "data": {
            "text/plain": [
              "array([ 0.        ,  0.20408163,  0.40816327,  0.6122449 ,  0.81632653,\n",
              "        1.02040816,  1.2244898 ,  1.42857143,  1.63265306,  1.83673469,\n",
              "        2.04081633,  2.24489796,  2.44897959,  2.65306122,  2.85714286,\n",
              "        3.06122449,  3.26530612,  3.46938776,  3.67346939,  3.87755102,\n",
              "        4.08163265,  4.28571429,  4.48979592,  4.69387755,  4.89795918,\n",
              "        5.10204082,  5.30612245,  5.51020408,  5.71428571,  5.91836735,\n",
              "        6.12244898,  6.32653061,  6.53061224,  6.73469388,  6.93877551,\n",
              "        7.14285714,  7.34693878,  7.55102041,  7.75510204,  7.95918367,\n",
              "        8.16326531,  8.36734694,  8.57142857,  8.7755102 ,  8.97959184,\n",
              "        9.18367347,  9.3877551 ,  9.59183673,  9.79591837, 10.        ])"
            ]
          },
          "metadata": {
            "tags": []
          },
          "execution_count": 34
        }
      ]
    },
    {
      "cell_type": "code",
      "metadata": {
        "colab": {
          "base_uri": "https://localhost:8080/"
        },
        "id": "DcB5wdmV6VQZ",
        "outputId": "76d88ae9-830d-4638-a178-8d103129ba2b"
      },
      "source": [
        "print(np.linspace(0, 10, 15))"
      ],
      "execution_count": 35,
      "outputs": [
        {
          "output_type": "stream",
          "text": [
            "[ 0.          0.71428571  1.42857143  2.14285714  2.85714286  3.57142857\n",
            "  4.28571429  5.          5.71428571  6.42857143  7.14285714  7.85714286\n",
            "  8.57142857  9.28571429 10.        ]\n"
          ],
          "name": "stdout"
        }
      ]
    },
    {
      "cell_type": "code",
      "metadata": {
        "colab": {
          "base_uri": "https://localhost:8080/"
        },
        "id": "JPk4HlLb6Wv3",
        "outputId": "e5dd807f-7295-47b7-b2c2-b76876b42eab"
      },
      "source": [
        "print(np.logspace(0, 5, 10))"
      ],
      "execution_count": 36,
      "outputs": [
        {
          "output_type": "stream",
          "text": [
            "[1.00000000e+00 3.59381366e+00 1.29154967e+01 4.64158883e+01\n",
            " 1.66810054e+02 5.99484250e+02 2.15443469e+03 7.74263683e+03\n",
            " 2.78255940e+04 1.00000000e+05]\n"
          ],
          "name": "stdout"
        }
      ]
    },
    {
      "cell_type": "markdown",
      "metadata": {
        "id": "NEEY1JYO6gEJ"
      },
      "source": [
        "### Criando matrizes"
      ]
    },
    {
      "cell_type": "code",
      "metadata": {
        "id": "V48F5RpR6X3m"
      },
      "source": [
        "# Criando uma matriz\r\n",
        "matriz = np.array([[1,2,3],[4,5,6]])"
      ],
      "execution_count": 37,
      "outputs": []
    },
    {
      "cell_type": "code",
      "metadata": {
        "colab": {
          "base_uri": "https://localhost:8080/"
        },
        "id": "_9WsExDc6iHX",
        "outputId": "c4c71ec6-2e28-412b-b191-38b6782cabcb"
      },
      "source": [
        "print(matriz)"
      ],
      "execution_count": 38,
      "outputs": [
        {
          "output_type": "stream",
          "text": [
            "[[1 2 3]\n",
            " [4 5 6]]\n"
          ],
          "name": "stdout"
        }
      ]
    },
    {
      "cell_type": "code",
      "metadata": {
        "colab": {
          "base_uri": "https://localhost:8080/"
        },
        "id": "_0Yd9a2l6lVY",
        "outputId": "dbacc294-f54f-4ae0-c390-74594f76ed7e"
      },
      "source": [
        "print(matriz.shape)"
      ],
      "execution_count": 39,
      "outputs": [
        {
          "output_type": "stream",
          "text": [
            "(2, 3)\n"
          ],
          "name": "stdout"
        }
      ]
    },
    {
      "cell_type": "code",
      "metadata": {
        "id": "fo1XAfiV6mzH"
      },
      "source": [
        "# Criando uma matriz 2x3 apenas com números \"1\"\r\n",
        "matriz1 = np.ones((2,3))"
      ],
      "execution_count": 40,
      "outputs": []
    },
    {
      "cell_type": "code",
      "metadata": {
        "colab": {
          "base_uri": "https://localhost:8080/"
        },
        "id": "XeQnXovj6orf",
        "outputId": "43fa2895-ae1c-4405-82e5-f03debaf0c5d"
      },
      "source": [
        "print(matriz1)"
      ],
      "execution_count": 41,
      "outputs": [
        {
          "output_type": "stream",
          "text": [
            "[[1. 1. 1.]\n",
            " [1. 1. 1.]]\n"
          ],
          "name": "stdout"
        }
      ]
    },
    {
      "cell_type": "code",
      "metadata": {
        "id": "_x-DPg3Z6qKh"
      },
      "source": [
        "# Criando uma matriz a partir de uma lista de listas\r\n",
        "lista = [[13,81,22], [0, 34, 59], [21, 48, 94]]"
      ],
      "execution_count": 42,
      "outputs": []
    },
    {
      "cell_type": "code",
      "metadata": {
        "id": "jWHj4J8Y6rYL"
      },
      "source": [
        "# A função matrix cria uma matria a partir de uma sequência\r\n",
        "matriz2 = np.matrix(lista)"
      ],
      "execution_count": 43,
      "outputs": []
    },
    {
      "cell_type": "code",
      "metadata": {
        "colab": {
          "base_uri": "https://localhost:8080/"
        },
        "id": "081h_NB36s4Y",
        "outputId": "e292d20d-a48d-4206-9b0f-3cb74538a43f"
      },
      "source": [
        "matriz2"
      ],
      "execution_count": 44,
      "outputs": [
        {
          "output_type": "execute_result",
          "data": {
            "text/plain": [
              "matrix([[13, 81, 22],\n",
              "        [ 0, 34, 59],\n",
              "        [21, 48, 94]])"
            ]
          },
          "metadata": {
            "tags": []
          },
          "execution_count": 44
        }
      ]
    },
    {
      "cell_type": "code",
      "metadata": {
        "colab": {
          "base_uri": "https://localhost:8080/"
        },
        "id": "D6crEjHN6uh0",
        "outputId": "087784b0-20f4-423c-f525-40590d9fa8b3"
      },
      "source": [
        "type(matriz2)"
      ],
      "execution_count": 45,
      "outputs": [
        {
          "output_type": "execute_result",
          "data": {
            "text/plain": [
              "numpy.matrix"
            ]
          },
          "metadata": {
            "tags": []
          },
          "execution_count": 45
        }
      ]
    },
    {
      "cell_type": "code",
      "metadata": {
        "colab": {
          "base_uri": "https://localhost:8080/"
        },
        "id": "L0OC3njw6wYE",
        "outputId": "118f212c-215e-4408-a419-42abb54b50f3"
      },
      "source": [
        "# Formato da matriz\r\n",
        "np.shape(matriz2)"
      ],
      "execution_count": 46,
      "outputs": [
        {
          "output_type": "execute_result",
          "data": {
            "text/plain": [
              "(3, 3)"
            ]
          },
          "metadata": {
            "tags": []
          },
          "execution_count": 46
        }
      ]
    },
    {
      "cell_type": "code",
      "metadata": {
        "colab": {
          "base_uri": "https://localhost:8080/"
        },
        "id": "5dQb7uFW6x5R",
        "outputId": "597650fe-a873-4989-9c8d-055844db82ee"
      },
      "source": [
        "matriz2.size"
      ],
      "execution_count": 47,
      "outputs": [
        {
          "output_type": "execute_result",
          "data": {
            "text/plain": [
              "9"
            ]
          },
          "metadata": {
            "tags": []
          },
          "execution_count": 47
        }
      ]
    },
    {
      "cell_type": "code",
      "metadata": {
        "colab": {
          "base_uri": "https://localhost:8080/"
        },
        "id": "sRQ-utw16zC9",
        "outputId": "665e489b-ac87-402c-a3bf-cf4f3831007f"
      },
      "source": [
        "print(matriz2.dtype)"
      ],
      "execution_count": 48,
      "outputs": [
        {
          "output_type": "stream",
          "text": [
            "int64\n"
          ],
          "name": "stdout"
        }
      ]
    },
    {
      "cell_type": "code",
      "metadata": {
        "colab": {
          "base_uri": "https://localhost:8080/"
        },
        "id": "qfMzeCU460my",
        "outputId": "0c9f2a7c-ca73-4ba1-cf99-e81f81839f29"
      },
      "source": [
        "matriz2.itemsize"
      ],
      "execution_count": 49,
      "outputs": [
        {
          "output_type": "execute_result",
          "data": {
            "text/plain": [
              "8"
            ]
          },
          "metadata": {
            "tags": []
          },
          "execution_count": 49
        }
      ]
    },
    {
      "cell_type": "code",
      "metadata": {
        "colab": {
          "base_uri": "https://localhost:8080/"
        },
        "id": "awh-27QX61sB",
        "outputId": "2ef33f35-c471-4752-cf50-2018b251c997"
      },
      "source": [
        "matriz2.nbytes"
      ],
      "execution_count": 50,
      "outputs": [
        {
          "output_type": "execute_result",
          "data": {
            "text/plain": [
              "72"
            ]
          },
          "metadata": {
            "tags": []
          },
          "execution_count": 50
        }
      ]
    },
    {
      "cell_type": "code",
      "metadata": {
        "colab": {
          "base_uri": "https://localhost:8080/"
        },
        "id": "EvZ_I1aj62_z",
        "outputId": "87ae96d4-32b7-4f26-92bd-823b887cfa03"
      },
      "source": [
        "print(matriz2[2,1])"
      ],
      "execution_count": 51,
      "outputs": [
        {
          "output_type": "stream",
          "text": [
            "48\n"
          ],
          "name": "stdout"
        }
      ]
    },
    {
      "cell_type": "code",
      "metadata": {
        "id": "chLJEkuh66Ve"
      },
      "source": [
        "# Alterando um elemento da matriz\r\n",
        "matriz2[1,0] = 100"
      ],
      "execution_count": 52,
      "outputs": []
    },
    {
      "cell_type": "code",
      "metadata": {
        "colab": {
          "base_uri": "https://localhost:8080/"
        },
        "id": "Yk-Vowu5679v",
        "outputId": "0478bede-d6b9-458e-edf5-1c87a52a3ba6"
      },
      "source": [
        "matriz2"
      ],
      "execution_count": 53,
      "outputs": [
        {
          "output_type": "execute_result",
          "data": {
            "text/plain": [
              "matrix([[ 13,  81,  22],\n",
              "        [100,  34,  59],\n",
              "        [ 21,  48,  94]])"
            ]
          },
          "metadata": {
            "tags": []
          },
          "execution_count": 53
        }
      ]
    },
    {
      "cell_type": "code",
      "metadata": {
        "colab": {
          "base_uri": "https://localhost:8080/"
        },
        "id": "nHzSRIeF69Gq",
        "outputId": "88e2d1f7-f250-498f-800a-87e54757715c"
      },
      "source": [
        "x = np.array([1, 2])  # NumPy decide o tipo dos dados\r\n",
        "y = np.array([1.0, 2.0])  # NumPy decide o tipo dos dados\r\n",
        "z = np.array([1, 2], dtype=np.float64)  # Forçamos um tipo de dado em particular\r\n",
        "\r\n",
        "print (x.dtype, y.dtype, z.dtype)"
      ],
      "execution_count": 54,
      "outputs": [
        {
          "output_type": "stream",
          "text": [
            "int64 float64 float64\n"
          ],
          "name": "stdout"
        }
      ]
    },
    {
      "cell_type": "code",
      "metadata": {
        "id": "8_lNX9qX6-8I"
      },
      "source": [
        "matriz3 = np.array([[24, 76], [35, 89]], dtype=float)"
      ],
      "execution_count": 55,
      "outputs": []
    },
    {
      "cell_type": "code",
      "metadata": {
        "colab": {
          "base_uri": "https://localhost:8080/"
        },
        "id": "KeKml0VZ7A0R",
        "outputId": "f8bcaef1-cce4-4779-88b5-e597e505003b"
      },
      "source": [
        "matriz3"
      ],
      "execution_count": 56,
      "outputs": [
        {
          "output_type": "execute_result",
          "data": {
            "text/plain": [
              "array([[24., 76.],\n",
              "       [35., 89.]])"
            ]
          },
          "metadata": {
            "tags": []
          },
          "execution_count": 56
        }
      ]
    },
    {
      "cell_type": "code",
      "metadata": {
        "colab": {
          "base_uri": "https://localhost:8080/"
        },
        "id": "cow4bXZv7CAk",
        "outputId": "0e6a995c-ab27-4be7-e0a9-f378ac9d0ed4"
      },
      "source": [
        "matriz3.itemsize"
      ],
      "execution_count": 57,
      "outputs": [
        {
          "output_type": "execute_result",
          "data": {
            "text/plain": [
              "8"
            ]
          },
          "metadata": {
            "tags": []
          },
          "execution_count": 57
        }
      ]
    },
    {
      "cell_type": "code",
      "metadata": {
        "colab": {
          "base_uri": "https://localhost:8080/"
        },
        "id": "ig4Klwap7Dmn",
        "outputId": "a1b1ef67-7038-4320-8bbc-1f4e1e5e05b1"
      },
      "source": [
        "matriz3.nbytes"
      ],
      "execution_count": 58,
      "outputs": [
        {
          "output_type": "execute_result",
          "data": {
            "text/plain": [
              "32"
            ]
          },
          "metadata": {
            "tags": []
          },
          "execution_count": 58
        }
      ]
    },
    {
      "cell_type": "code",
      "metadata": {
        "colab": {
          "base_uri": "https://localhost:8080/"
        },
        "id": "HYxQhgbU7Erv",
        "outputId": "5eba7ab8-f2d2-47ba-a96e-9ee22e5ae224"
      },
      "source": [
        "matriz3.ndim"
      ],
      "execution_count": 59,
      "outputs": [
        {
          "output_type": "execute_result",
          "data": {
            "text/plain": [
              "2"
            ]
          },
          "metadata": {
            "tags": []
          },
          "execution_count": 59
        }
      ]
    },
    {
      "cell_type": "code",
      "metadata": {
        "colab": {
          "base_uri": "https://localhost:8080/"
        },
        "id": "ar1uyFSM7FtC",
        "outputId": "9d3ebfc5-1b72-4101-f11f-90fc23dcc7a2"
      },
      "source": [
        "matriz3[1,1]"
      ],
      "execution_count": 60,
      "outputs": [
        {
          "output_type": "execute_result",
          "data": {
            "text/plain": [
              "89.0"
            ]
          },
          "metadata": {
            "tags": []
          },
          "execution_count": 60
        }
      ]
    },
    {
      "cell_type": "code",
      "metadata": {
        "id": "mEWLbcbP7G3C"
      },
      "source": [
        "matriz3[1,1] = 100"
      ],
      "execution_count": 61,
      "outputs": []
    },
    {
      "cell_type": "code",
      "metadata": {
        "colab": {
          "base_uri": "https://localhost:8080/"
        },
        "id": "Lo5QrU4J7H8z",
        "outputId": "2ca6b975-d1bb-4b40-bca0-df340156af07"
      },
      "source": [
        "matriz3"
      ],
      "execution_count": 62,
      "outputs": [
        {
          "output_type": "execute_result",
          "data": {
            "text/plain": [
              "array([[ 24.,  76.],\n",
              "       [ 35., 100.]])"
            ]
          },
          "metadata": {
            "tags": []
          },
          "execution_count": 62
        }
      ]
    },
    {
      "cell_type": "code",
      "metadata": {
        "id": "j512U1mf7JC0"
      },
      "source": [
        ""
      ],
      "execution_count": null,
      "outputs": []
    },
    {
      "cell_type": "markdown",
      "metadata": {
        "id": "z5wpo8YW7Zs7"
      },
      "source": [
        "### Usando o Método random() do NumPy"
      ]
    },
    {
      "cell_type": "code",
      "metadata": {
        "colab": {
          "base_uri": "https://localhost:8080/"
        },
        "id": "Pw8cCk2a7beO",
        "outputId": "b9d26e7a-15c1-4f63-dc89-eb5a55b1b26b"
      },
      "source": [
        "print(np.random.rand(10))"
      ],
      "execution_count": 63,
      "outputs": [
        {
          "output_type": "stream",
          "text": [
            "[0.45474112 0.34084876 0.40621121 0.00105012 0.06630358 0.47482963\n",
            " 0.79582329 0.26134698 0.41094641 0.28866688]\n"
          ],
          "name": "stdout"
        }
      ]
    },
    {
      "cell_type": "code",
      "metadata": {
        "id": "Z-n1PXOu7dfQ"
      },
      "source": [
        "import matplotlib.pyplot as plt\r\n",
        "%matplotlib inline"
      ],
      "execution_count": 64,
      "outputs": []
    },
    {
      "cell_type": "code",
      "metadata": {
        "colab": {
          "base_uri": "https://localhost:8080/",
          "height": 35
        },
        "id": "tfTUw7KL7faq",
        "outputId": "423824cd-eec5-4889-95ab-773ab6645b5f"
      },
      "source": [
        "import matplotlib as mat\r\n",
        "mat.__version__"
      ],
      "execution_count": 65,
      "outputs": [
        {
          "output_type": "execute_result",
          "data": {
            "application/vnd.google.colaboratory.intrinsic+json": {
              "type": "string"
            },
            "text/plain": [
              "'3.2.2'"
            ]
          },
          "metadata": {
            "tags": []
          },
          "execution_count": 65
        }
      ]
    },
    {
      "cell_type": "code",
      "metadata": {
        "colab": {
          "base_uri": "https://localhost:8080/"
        },
        "id": "6GtIJ2Tp7iEx",
        "outputId": "b7b1c05f-250d-4553-f780-6d9a676006ce"
      },
      "source": [
        "print(np.random.rand(10))"
      ],
      "execution_count": 66,
      "outputs": [
        {
          "output_type": "stream",
          "text": [
            "[0.08352028 0.66222205 0.79541141 0.69844279 0.06097413 0.71196302\n",
            " 0.06487984 0.40085113 0.42331278 0.9801431 ]\n"
          ],
          "name": "stdout"
        }
      ]
    },
    {
      "cell_type": "code",
      "metadata": {
        "colab": {
          "base_uri": "https://localhost:8080/",
          "height": 265
        },
        "id": "oPQxYG687j2X",
        "outputId": "12eeb3f4-8370-40fc-a2c1-60c9b30e1d4d"
      },
      "source": [
        "plt.show((plt.hist(np.random.rand(1000))))"
      ],
      "execution_count": 67,
      "outputs": [
        {
          "output_type": "display_data",
          "data": {
            "image/png": "[encoded data removed]",
            "text/plain": [
              "<Figure size 432x288 with 1 Axes>"
            ]
          },
          "metadata": {
            "tags": [],
            "needs_background": "light"
          }
        }
      ]
    },
    {
      "cell_type": "code",
      "metadata": {
        "colab": {
          "base_uri": "https://localhost:8080/"
        },
        "id": "dhj3IYb47mSQ",
        "outputId": "e7a42de2-4985-4a4e-ad82-263daba98ab2"
      },
      "source": [
        "print(np.random.randn(5,5))"
      ],
      "execution_count": 69,
      "outputs": [
        {
          "output_type": "stream",
          "text": [
            "[[ 0.24456783 -1.98057652  0.24807258 -1.19476233  1.41626059]\n",
            " [-0.8620919  -0.60659778  2.04680323 -0.01194599 -0.79130388]\n",
            " [ 0.23903164 -0.37262641  0.10724112  0.75349049 -1.20244706]\n",
            " [ 0.51626241  0.90465153 -1.49474902 -0.84598797  0.30485766]\n",
            " [ 1.21635905 -2.19361129 -1.44787288  0.57821077 -0.31264101]]\n"
          ],
          "name": "stdout"
        }
      ]
    },
    {
      "cell_type": "code",
      "metadata": {
        "colab": {
          "base_uri": "https://localhost:8080/",
          "height": 265
        },
        "id": "ZCNBjNq-7rf-",
        "outputId": "f98ef727-e24c-437e-c21b-a054e2532cc6"
      },
      "source": [
        "plt.show(plt.hist(np.random.randn(1000)))"
      ],
      "execution_count": 70,
      "outputs": [
        {
          "output_type": "display_data",
          "data": {
            "image/png": "[encoded data removed]",
            "text/plain": [
              "<Figure size 432x288 with 1 Axes>"
            ]
          },
          "metadata": {
            "tags": [],
            "needs_background": "light"
          }
        }
      ]
    },
    {
      "cell_type": "code",
      "metadata": {
        "colab": {
          "base_uri": "https://localhost:8080/",
          "height": 283
        },
        "id": "19ULfW3u7xAJ",
        "outputId": "8b341ea2-5591-4b8b-c130-13edf69b7dfc"
      },
      "source": [
        "imagem = np.random.rand(30, 30)\r\n",
        "plt.imshow(imagem, cmap = plt.cm.hot)    \r\n",
        "plt.colorbar()"
      ],
      "execution_count": 71,
      "outputs": [
        {
          "output_type": "execute_result",
          "data": {
            "text/plain": [
              "<matplotlib.colorbar.Colorbar at 0x7f248cbf2790>"
            ]
          },
          "metadata": {
            "tags": []
          },
          "execution_count": 71
        },
        {
          "output_type": "display_data",
          "data": {
            "image/png": "[encoded data removed]",
            "text/plain": [
              "<Figure size 432x288 with 2 Axes>"
            ]
          },
          "metadata": {
            "tags": [],
            "needs_background": "light"
          }
        }
      ]
    },
    {
      "cell_type": "markdown",
      "metadata": {
        "id": "VSBmN8079sEu"
      },
      "source": [
        "### Estatística"
      ]
    },
    {
      "cell_type": "code",
      "metadata": {
        "id": "oMG8b_769tq_"
      },
      "source": [
        "# Criando um array\r\n",
        "A = np.array([15, 23, 63, 94, 75])"
      ],
      "execution_count": 82,
      "outputs": []
    },
    {
      "cell_type": "code",
      "metadata": {
        "colab": {
          "base_uri": "https://localhost:8080/"
        },
        "id": "kqYO5f9R9vYw",
        "outputId": "fe8d7d01-dd54-4fca-eeb1-35fe543c63f5"
      },
      "source": [
        "# Em estatística a média é o valor que aponta para onde mais se concentram os dados de uma distribuição.\r\n",
        "np.mean(A)"
      ],
      "execution_count": 83,
      "outputs": [
        {
          "output_type": "execute_result",
          "data": {
            "text/plain": [
              "54.0"
            ]
          },
          "metadata": {
            "tags": []
          },
          "execution_count": 83
        }
      ]
    },
    {
      "cell_type": "code",
      "metadata": {
        "colab": {
          "base_uri": "https://localhost:8080/"
        },
        "id": "U9uHqioq9xbF",
        "outputId": "f9bbad7e-a3fe-4cc9-bb25-92f4bca7dfd8"
      },
      "source": [
        "# O desvio padrão mostra o quanto de variação ou \"dispersão\" existe em \r\n",
        "# relação à média (ou valor esperado). \r\n",
        "# Um baixo desvio padrão indica que os dados tendem a estar próximos da média.\r\n",
        "# Um desvio padrão alto indica que os dados estão espalhados por uma gama de valores.\r\n",
        "np.std(A)"
      ],
      "execution_count": 84,
      "outputs": [
        {
          "output_type": "execute_result",
          "data": {
            "text/plain": [
              "30.34468652004828"
            ]
          },
          "metadata": {
            "tags": []
          },
          "execution_count": 84
        }
      ]
    },
    {
      "cell_type": "code",
      "metadata": {
        "colab": {
          "base_uri": "https://localhost:8080/"
        },
        "id": "VH7so8Ye9zaW",
        "outputId": "dc41b0f2-695b-4919-95af-45da5dd50754"
      },
      "source": [
        "# Variância de uma variável aleatória é uma medida da sua dispersão \r\n",
        "# estatística, indicando \"o quão longe\" em geral os seus valores se \r\n",
        "# encontram do valor esperado\r\n",
        "np.var(A)"
      ],
      "execution_count": 85,
      "outputs": [
        {
          "output_type": "execute_result",
          "data": {
            "text/plain": [
              "920.8"
            ]
          },
          "metadata": {
            "tags": []
          },
          "execution_count": 85
        }
      ]
    },
    {
      "cell_type": "code",
      "metadata": {
        "id": "Zdu_Ji5P91Wl"
      },
      "source": [
        "d = np.arange(1, 10)"
      ],
      "execution_count": 86,
      "outputs": []
    },
    {
      "cell_type": "code",
      "metadata": {
        "colab": {
          "base_uri": "https://localhost:8080/"
        },
        "id": "fXgJGIZw92sU",
        "outputId": "7052d14b-1343-4821-a648-c9f4517285bd"
      },
      "source": [
        "d"
      ],
      "execution_count": 87,
      "outputs": [
        {
          "output_type": "execute_result",
          "data": {
            "text/plain": [
              "array([1, 2, 3, 4, 5, 6, 7, 8, 9])"
            ]
          },
          "metadata": {
            "tags": []
          },
          "execution_count": 87
        }
      ]
    },
    {
      "cell_type": "code",
      "metadata": {
        "colab": {
          "base_uri": "https://localhost:8080/"
        },
        "id": "yHt2SG3o93q_",
        "outputId": "568753ae-9a58-4a1e-c4e3-822adad9997e"
      },
      "source": [
        "np.sum(d)"
      ],
      "execution_count": 88,
      "outputs": [
        {
          "output_type": "execute_result",
          "data": {
            "text/plain": [
              "45"
            ]
          },
          "metadata": {
            "tags": []
          },
          "execution_count": 88
        }
      ]
    },
    {
      "cell_type": "code",
      "metadata": {
        "colab": {
          "base_uri": "https://localhost:8080/"
        },
        "id": "up5Ud1H2-Dqj",
        "outputId": "f17b71a7-4ae7-4864-b47b-3cba427015fc"
      },
      "source": [
        "# Retorna o produto dos elementos\r\n",
        "np.prod(d)"
      ],
      "execution_count": 89,
      "outputs": [
        {
          "output_type": "execute_result",
          "data": {
            "text/plain": [
              "362880"
            ]
          },
          "metadata": {
            "tags": []
          },
          "execution_count": 89
        }
      ]
    },
    {
      "cell_type": "code",
      "metadata": {
        "colab": {
          "base_uri": "https://localhost:8080/"
        },
        "id": "g5OuQ4kB-EsL",
        "outputId": "1fbfb49e-4aef-4869-dfda-a864ae9fa077"
      },
      "source": [
        "# Soma acumulada dos elementos\r\n",
        "np.cumsum(d)"
      ],
      "execution_count": 90,
      "outputs": [
        {
          "output_type": "execute_result",
          "data": {
            "text/plain": [
              "array([ 1,  3,  6, 10, 15, 21, 28, 36, 45])"
            ]
          },
          "metadata": {
            "tags": []
          },
          "execution_count": 90
        }
      ]
    },
    {
      "cell_type": "code",
      "metadata": {
        "colab": {
          "base_uri": "https://localhost:8080/"
        },
        "id": "IV39iLeE-JFk",
        "outputId": "71a72b0c-3c23-41c5-d8e4-1b75eb331952"
      },
      "source": [
        "a = np.random.randn(400,2)\r\n",
        "m = a.mean(0)\r\n",
        "print (m, m.shape)"
      ],
      "execution_count": 91,
      "outputs": [
        {
          "output_type": "stream",
          "text": [
            "[ 0.00415233 -0.00361037] (2,)\n"
          ],
          "name": "stdout"
        }
      ]
    },
    {
      "cell_type": "code",
      "metadata": {
        "colab": {
          "base_uri": "https://localhost:8080/",
          "height": 265
        },
        "id": "c7nJm_5D-JYf",
        "outputId": "35285a23-9b75-4cf2-9460-62b56f656774"
      },
      "source": [
        "plt.plot(a[:,0], a[:,1], 'o', markersize=5, alpha=0.50)\r\n",
        "plt.plot(m[0], m[1], 'ro', markersize=10)\r\n",
        "plt.show()"
      ],
      "execution_count": 92,
      "outputs": [
        {
          "output_type": "display_data",
          "data": {
            "image/png": "[encoded data removed]",
            "text/plain": [
              "<Figure size 432x288 with 1 Axes>"
            ]
          },
          "metadata": {
            "tags": [],
            "needs_background": "light"
          }
        }
      ]
    },
    {
      "cell_type": "code",
      "metadata": {
        "id": "E65XMNl0-LfP"
      },
      "source": [
        ""
      ],
      "execution_count": null,
      "outputs": []
    },
    {
      "cell_type": "markdown",
      "metadata": {
        "id": "7RygmIPs-N-8"
      },
      "source": [
        "### Outras Operações com Arrays"
      ]
    },
    {
      "cell_type": "code",
      "metadata": {
        "id": "3VxzVftf-YOE"
      },
      "source": [
        "# Slicing\r\n",
        "a = np.diag(np.arange(3))"
      ],
      "execution_count": 93,
      "outputs": []
    },
    {
      "cell_type": "code",
      "metadata": {
        "colab": {
          "base_uri": "https://localhost:8080/"
        },
        "id": "hV1v-lee-Yz3",
        "outputId": "62b09160-67cc-4502-e199-de6c275cba65"
      },
      "source": [
        "a"
      ],
      "execution_count": 94,
      "outputs": [
        {
          "output_type": "execute_result",
          "data": {
            "text/plain": [
              "array([[0, 0, 0],\n",
              "       [0, 1, 0],\n",
              "       [0, 0, 2]])"
            ]
          },
          "metadata": {
            "tags": []
          },
          "execution_count": 94
        }
      ]
    },
    {
      "cell_type": "code",
      "metadata": {
        "colab": {
          "base_uri": "https://localhost:8080/"
        },
        "id": "UB9O3bHs-Z3e",
        "outputId": "17aaba86-9963-4158-a54d-4b7780bb84ca"
      },
      "source": [
        "a[1, 1]"
      ],
      "execution_count": 95,
      "outputs": [
        {
          "output_type": "execute_result",
          "data": {
            "text/plain": [
              "1"
            ]
          },
          "metadata": {
            "tags": []
          },
          "execution_count": 95
        }
      ]
    },
    {
      "cell_type": "code",
      "metadata": {
        "colab": {
          "base_uri": "https://localhost:8080/"
        },
        "id": "_FNatCuq-br7",
        "outputId": "0835c56a-2205-479b-9ae2-1ce49bdc4598"
      },
      "source": [
        "a[1]"
      ],
      "execution_count": 96,
      "outputs": [
        {
          "output_type": "execute_result",
          "data": {
            "text/plain": [
              "array([0, 1, 0])"
            ]
          },
          "metadata": {
            "tags": []
          },
          "execution_count": 96
        }
      ]
    },
    {
      "cell_type": "code",
      "metadata": {
        "colab": {
          "base_uri": "https://localhost:8080/"
        },
        "id": "-CX9i5mu-eCO",
        "outputId": "a1ed446a-a86d-4c9d-ddce-5f40fab61b66"
      },
      "source": [
        "b = np.arange(10)\r\n",
        "b"
      ],
      "execution_count": 98,
      "outputs": [
        {
          "output_type": "execute_result",
          "data": {
            "text/plain": [
              "array([0, 1, 2, 3, 4, 5, 6, 7, 8, 9])"
            ]
          },
          "metadata": {
            "tags": []
          },
          "execution_count": 98
        }
      ]
    },
    {
      "cell_type": "code",
      "metadata": {
        "colab": {
          "base_uri": "https://localhost:8080/"
        },
        "id": "rreqeeSm-ggt",
        "outputId": "9335877a-e2c1-4dc3-a0bc-01aefd9f9a22"
      },
      "source": [
        "# [start:end:step]\r\n",
        "b[2:9:3]"
      ],
      "execution_count": 99,
      "outputs": [
        {
          "output_type": "execute_result",
          "data": {
            "text/plain": [
              "array([2, 5, 8])"
            ]
          },
          "metadata": {
            "tags": []
          },
          "execution_count": 99
        }
      ]
    },
    {
      "cell_type": "code",
      "metadata": {
        "colab": {
          "base_uri": "https://localhost:8080/"
        },
        "id": "7FjEOmz1-jp1",
        "outputId": "39511570-6af5-4abd-b7b9-aeef13f8af18"
      },
      "source": [
        "# Comparação\r\n",
        "a = np.array([1, 2, 3, 4])\r\n",
        "b = np.array([4, 2, 2, 4])\r\n",
        "a == b"
      ],
      "execution_count": 100,
      "outputs": [
        {
          "output_type": "execute_result",
          "data": {
            "text/plain": [
              "array([False,  True, False,  True])"
            ]
          },
          "metadata": {
            "tags": []
          },
          "execution_count": 100
        }
      ]
    },
    {
      "cell_type": "code",
      "metadata": {
        "colab": {
          "base_uri": "https://localhost:8080/"
        },
        "id": "T9R6HZXT-j-w",
        "outputId": "0114b659-decf-4338-85d7-2d7c9e5d3955"
      },
      "source": [
        "np.array_equal(a, b)"
      ],
      "execution_count": 101,
      "outputs": [
        {
          "output_type": "execute_result",
          "data": {
            "text/plain": [
              "False"
            ]
          },
          "metadata": {
            "tags": []
          },
          "execution_count": 101
        }
      ]
    },
    {
      "cell_type": "code",
      "metadata": {
        "colab": {
          "base_uri": "https://localhost:8080/"
        },
        "id": "woa4mXIe-ldo",
        "outputId": "8eaa0f39-fe2f-4eac-e8c1-5dbb9730bf5d"
      },
      "source": [
        "a.min()"
      ],
      "execution_count": 102,
      "outputs": [
        {
          "output_type": "execute_result",
          "data": {
            "text/plain": [
              "1"
            ]
          },
          "metadata": {
            "tags": []
          },
          "execution_count": 102
        }
      ]
    },
    {
      "cell_type": "code",
      "metadata": {
        "colab": {
          "base_uri": "https://localhost:8080/"
        },
        "id": "V31D1drb-m80",
        "outputId": "c13c28ae-6cda-4bf6-f013-e35e6d711a26"
      },
      "source": [
        "a.max()"
      ],
      "execution_count": 103,
      "outputs": [
        {
          "output_type": "execute_result",
          "data": {
            "text/plain": [
              "4"
            ]
          },
          "metadata": {
            "tags": []
          },
          "execution_count": 103
        }
      ]
    },
    {
      "cell_type": "code",
      "metadata": {
        "colab": {
          "base_uri": "https://localhost:8080/"
        },
        "id": "leTDjTKr-oOo",
        "outputId": "2fc79e7e-1346-41f7-f43d-f72876d71b91"
      },
      "source": [
        "# Somando um elemento ao array\r\n",
        "np.array([1, 2, 3]) + 1.5"
      ],
      "execution_count": 104,
      "outputs": [
        {
          "output_type": "execute_result",
          "data": {
            "text/plain": [
              "array([2.5, 3.5, 4.5])"
            ]
          },
          "metadata": {
            "tags": []
          },
          "execution_count": 104
        }
      ]
    },
    {
      "cell_type": "code",
      "metadata": {
        "id": "8EhiNyrB-p7L"
      },
      "source": [
        "# Usando o método around\r\n",
        "a = np.array([1.2, 1.5, 1.6, 2.5, 3.5, 4.5])"
      ],
      "execution_count": 105,
      "outputs": []
    },
    {
      "cell_type": "code",
      "metadata": {
        "colab": {
          "base_uri": "https://localhost:8080/"
        },
        "id": "86zyVjgy-rK_",
        "outputId": "c8afc896-0ffa-45db-c4c6-b8e871373f62"
      },
      "source": [
        "b = np.around(a)\r\n",
        "b\r\n"
      ],
      "execution_count": 106,
      "outputs": [
        {
          "output_type": "execute_result",
          "data": {
            "text/plain": [
              "array([1., 2., 2., 2., 4., 4.])"
            ]
          },
          "metadata": {
            "tags": []
          },
          "execution_count": 106
        }
      ]
    },
    {
      "cell_type": "code",
      "metadata": {
        "id": "6kHzNcuP-uB-"
      },
      "source": [
        "# Criando um array\r\n",
        "B = np.array([1, 2, 3, 4])"
      ],
      "execution_count": 108,
      "outputs": []
    },
    {
      "cell_type": "code",
      "metadata": {
        "id": "BlFPxKZH-xCS"
      },
      "source": [
        "# Copiando um array\r\n",
        "C = B.flatten()"
      ],
      "execution_count": 109,
      "outputs": []
    },
    {
      "cell_type": "code",
      "metadata": {
        "id": "s9A8os5y-ywS"
      },
      "source": [
        "# Criando um array\r\n",
        "v = np.array([1, 2, 3])"
      ],
      "execution_count": 110,
      "outputs": []
    },
    {
      "cell_type": "code",
      "metadata": {
        "colab": {
          "base_uri": "https://localhost:8080/"
        },
        "id": "x6QKT47Q-0c-",
        "outputId": "8196de8a-f1d1-49c8-f416-2d0184cbee33"
      },
      "source": [
        "# Adcionando uma dimensão ao array\r\n",
        "v[:, np.newaxis], v[:,np.newaxis].shape, v[np.newaxis,:].shape"
      ],
      "execution_count": 111,
      "outputs": [
        {
          "output_type": "execute_result",
          "data": {
            "text/plain": [
              "(array([[1],\n",
              "        [2],\n",
              "        [3]]), (3, 1), (1, 3))"
            ]
          },
          "metadata": {
            "tags": []
          },
          "execution_count": 111
        }
      ]
    },
    {
      "cell_type": "code",
      "metadata": {
        "colab": {
          "base_uri": "https://localhost:8080/"
        },
        "id": "5Bmh3j4Z-2N2",
        "outputId": "c2d9be3e-35db-434e-9d6c-756fa88f1081"
      },
      "source": [
        "# Repetindo os elementos de um array\r\n",
        "np.repeat(v, 3)"
      ],
      "execution_count": 112,
      "outputs": [
        {
          "output_type": "execute_result",
          "data": {
            "text/plain": [
              "array([1, 1, 1, 2, 2, 2, 3, 3, 3])"
            ]
          },
          "metadata": {
            "tags": []
          },
          "execution_count": 112
        }
      ]
    },
    {
      "cell_type": "code",
      "metadata": {
        "colab": {
          "base_uri": "https://localhost:8080/"
        },
        "id": "QS2i5hUN-3uc",
        "outputId": "d4695d6d-96f5-4c7b-99e9-4de3e7cbd1cf"
      },
      "source": [
        "# Repetindo os elementos de um array\r\n",
        "np.tile(v, 3)"
      ],
      "execution_count": 113,
      "outputs": [
        {
          "output_type": "execute_result",
          "data": {
            "text/plain": [
              "array([1, 2, 3, 1, 2, 3, 1, 2, 3])"
            ]
          },
          "metadata": {
            "tags": []
          },
          "execution_count": 113
        }
      ]
    },
    {
      "cell_type": "code",
      "metadata": {
        "id": "UKE9uwhb-6uS"
      },
      "source": [
        "# Criando um array\r\n",
        "w = np.array([5, 6])"
      ],
      "execution_count": 114,
      "outputs": []
    },
    {
      "cell_type": "code",
      "metadata": {
        "colab": {
          "base_uri": "https://localhost:8080/"
        },
        "id": "vCLCvnqD-8nK",
        "outputId": "dd2d46ec-4c67-479e-c2e9-0095d9b34289"
      },
      "source": [
        "# Concatenando\r\n",
        "np.concatenate((v, w), axis=0)"
      ],
      "execution_count": 115,
      "outputs": [
        {
          "output_type": "execute_result",
          "data": {
            "text/plain": [
              "array([1, 2, 3, 5, 6])"
            ]
          },
          "metadata": {
            "tags": []
          },
          "execution_count": 115
        }
      ]
    },
    {
      "cell_type": "code",
      "metadata": {
        "colab": {
          "base_uri": "https://localhost:8080/"
        },
        "id": "KCKWKIBy-9_v",
        "outputId": "e90c8ea3-8023-488d-d636-2be2223d0d8d"
      },
      "source": [
        "# Copiando arrays\r\n",
        "r = np.copy(v)\r\n",
        "r"
      ],
      "execution_count": 116,
      "outputs": [
        {
          "output_type": "execute_result",
          "data": {
            "text/plain": [
              "array([1, 2, 3])"
            ]
          },
          "metadata": {
            "tags": []
          },
          "execution_count": 116
        }
      ]
    },
    {
      "cell_type": "code",
      "metadata": {
        "id": "jkX6992S_A5j"
      },
      "source": [
        ""
      ],
      "execution_count": null,
      "outputs": []
    }
  ]
}